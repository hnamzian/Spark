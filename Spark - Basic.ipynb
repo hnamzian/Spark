{
 "cells": [
  {
   "cell_type": "code",
   "execution_count": 1,
   "metadata": {
    "collapsed": true
   },
   "outputs": [],
   "source": [
    "import findspark\n",
    "findspark.init()\n",
    "from pyspark import SparkContext\n",
    "from pyspark.sql import SQLContext"
   ]
  },
  {
   "cell_type": "markdown",
   "metadata": {},
   "source": [
    "## Map, Filter and Reduce in Python"
   ]
  },
  {
   "cell_type": "code",
   "execution_count": 2,
   "metadata": {},
   "outputs": [
    {
     "data": {
      "text/plain": [
       "[1, 2, 3, 4, 5, 6, 7, 8, 9]"
      ]
     },
     "execution_count": 2,
     "metadata": {},
     "output_type": "execute_result"
    }
   ],
   "source": [
    "a = range(1,10)\n",
    "a"
   ]
  },
  {
   "cell_type": "code",
   "execution_count": 3,
   "metadata": {},
   "outputs": [
    {
     "data": {
      "text/plain": [
       "[(1, 5), (3, 9), (5, 8)]"
      ]
     },
     "execution_count": 3,
     "metadata": {},
     "output_type": "execute_result"
    }
   ],
   "source": [
    "t = [(1,5), (3,9), (5,8)]\n",
    "t"
   ]
  },
  {
   "cell_type": "markdown",
   "metadata": {},
   "source": [
    "### map"
   ]
  },
  {
   "cell_type": "code",
   "execution_count": 4,
   "metadata": {},
   "outputs": [
    {
     "data": {
      "text/plain": [
       "[1, 4, 9, 16, 25, 36, 49, 64, 81]"
      ]
     },
     "execution_count": 4,
     "metadata": {},
     "output_type": "execute_result"
    }
   ],
   "source": [
    "map(lambda x:x**2, a)"
   ]
  },
  {
   "cell_type": "code",
   "execution_count": 5,
   "metadata": {},
   "outputs": [
    {
     "data": {
      "text/plain": [
       "[1, 3, 5]"
      ]
     },
     "execution_count": 5,
     "metadata": {},
     "output_type": "execute_result"
    }
   ],
   "source": [
    "map(lambda t:t[0], t)"
   ]
  },
  {
   "cell_type": "code",
   "execution_count": 6,
   "metadata": {},
   "outputs": [
    {
     "data": {
      "text/plain": [
       "[5, 27, 40]"
      ]
     },
     "execution_count": 6,
     "metadata": {},
     "output_type": "execute_result"
    }
   ],
   "source": [
    "map(lambda t:t[0]*t[1], t)"
   ]
  },
  {
   "cell_type": "code",
   "execution_count": 7,
   "metadata": {},
   "outputs": [
    {
     "data": {
      "text/plain": [
       "[[1, 2, 3, 4], [3, 4, 5, 6, 7, 8], [5, 6, 7]]"
      ]
     },
     "execution_count": 7,
     "metadata": {},
     "output_type": "execute_result"
    }
   ],
   "source": [
    "map(lambda t:range(t[0],t[1]), t)"
   ]
  },
  {
   "cell_type": "markdown",
   "metadata": {},
   "source": [
    "### filter"
   ]
  },
  {
   "cell_type": "code",
   "execution_count": 8,
   "metadata": {},
   "outputs": [
    {
     "data": {
      "text/plain": [
       "[3, 6, 9]"
      ]
     },
     "execution_count": 8,
     "metadata": {},
     "output_type": "execute_result"
    }
   ],
   "source": [
    "filter(lambda x:x%3==0, a)"
   ]
  },
  {
   "cell_type": "code",
   "execution_count": 9,
   "metadata": {},
   "outputs": [
    {
     "data": {
      "text/plain": [
       "[(3, 9), (5, 8)]"
      ]
     },
     "execution_count": 9,
     "metadata": {},
     "output_type": "execute_result"
    }
   ],
   "source": [
    "filter(lambda t:t[0]>2, t)"
   ]
  },
  {
   "cell_type": "markdown",
   "metadata": {},
   "source": [
    "### reduce"
   ]
  },
  {
   "cell_type": "code",
   "execution_count": 10,
   "metadata": {},
   "outputs": [
    {
     "data": {
      "text/plain": [
       "45"
      ]
     },
     "execution_count": 10,
     "metadata": {},
     "output_type": "execute_result"
    }
   ],
   "source": [
    "reduce(lambda x,y:x+y, a)"
   ]
  },
  {
   "cell_type": "code",
   "execution_count": 11,
   "metadata": {},
   "outputs": [
    {
     "data": {
      "text/plain": [
       "72"
      ]
     },
     "execution_count": 11,
     "metadata": {},
     "output_type": "execute_result"
    }
   ],
   "source": [
    "reduce(lambda x,y:x+y, map(lambda t:t[0]*t[1], t))"
   ]
  },
  {
   "cell_type": "markdown",
   "metadata": {},
   "source": [
    "### flattening"
   ]
  },
  {
   "cell_type": "code",
   "execution_count": 12,
   "metadata": {},
   "outputs": [
    {
     "name": "stdout",
     "output_type": "stream",
     "text": [
      "[[1, 2, 3, 4], [10, 11, 12, 13, 14]]\n",
      "[1, 2, 3, 4, 10, 11, 12, 13, 14]\n"
     ]
    }
   ],
   "source": [
    "from itertools import chain\n",
    "\n",
    "b = map(lambda t: range(t[0],t[1]) ,[(1,5), (10,15)])\n",
    "\n",
    "flat = list(chain.from_iterable(b))\n",
    "\n",
    "print b\n",
    "print flat"
   ]
  },
  {
   "cell_type": "code",
   "execution_count": null,
   "metadata": {
    "collapsed": true
   },
   "outputs": [],
   "source": []
  },
  {
   "cell_type": "markdown",
   "metadata": {},
   "source": [
    "# start Spark\n",
    "***"
   ]
  },
  {
   "cell_type": "markdown",
   "metadata": {},
   "source": [
    "## SparkContext\n",
    "***"
   ]
  },
  {
   "cell_type": "code",
   "execution_count": 3,
   "metadata": {
    "collapsed": true
   },
   "outputs": [],
   "source": [
    "sc = SparkContext()"
   ]
  },
  {
   "cell_type": "markdown",
   "metadata": {},
   "source": [
    "## Create RDD\n",
    "***"
   ]
  },
  {
   "cell_type": "markdown",
   "metadata": {},
   "source": [
    "### parallelize"
   ]
  },
  {
   "cell_type": "code",
   "execution_count": 4,
   "metadata": {
    "collapsed": true
   },
   "outputs": [],
   "source": [
    "list_rdd = sc.parallelize(range(1,10))"
   ]
  },
  {
   "cell_type": "code",
   "execution_count": 5,
   "metadata": {
    "collapsed": true
   },
   "outputs": [],
   "source": [
    "age = [(\"Jimmy\", 18),\n",
    "       (\"Bob\", 22),\n",
    "       (\"Rod\", 29)]\n",
    "salary = [(\"Jimmy\", 20000),\n",
    "          (\"Bob\", 23000),\n",
    "          (\"Rod\", 25000)]\n",
    "age_rdd = sc.parallelize(age)\n",
    "salary_rdd = sc.parallelize(salary)"
   ]
  },
  {
   "cell_type": "markdown",
   "metadata": {},
   "source": [
    "### textFile"
   ]
  },
  {
   "cell_type": "code",
   "execution_count": 4,
   "metadata": {},
   "outputs": [],
   "source": [
    "persons_rdd = sc.textFile(\"data/persons.txt\")"
   ]
  },
  {
   "cell_type": "markdown",
   "metadata": {},
   "source": [
    "## Showing RDD elements\n",
    "***"
   ]
  },
  {
   "cell_type": "markdown",
   "metadata": {},
   "source": [
    "### first"
   ]
  },
  {
   "cell_type": "code",
   "execution_count": 18,
   "metadata": {},
   "outputs": [
    {
     "data": {
      "text/plain": [
       "1"
      ]
     },
     "execution_count": 18,
     "metadata": {},
     "output_type": "execute_result"
    }
   ],
   "source": [
    "list_rdd.first()"
   ]
  },
  {
   "cell_type": "code",
   "execution_count": 117,
   "metadata": {},
   "outputs": [
    {
     "data": {
      "text/plain": [
       "('Jimmy', 20000)"
      ]
     },
     "execution_count": 117,
     "metadata": {},
     "output_type": "execute_result"
    }
   ],
   "source": [
    "salary_rdd.first()"
   ]
  },
  {
   "cell_type": "code",
   "execution_count": 118,
   "metadata": {},
   "outputs": [
    {
     "data": {
      "text/plain": [
       "('Jimmy', 18)"
      ]
     },
     "execution_count": 118,
     "metadata": {},
     "output_type": "execute_result"
    }
   ],
   "source": [
    "age_rdd.first()"
   ]
  },
  {
   "cell_type": "code",
   "execution_count": 5,
   "metadata": {},
   "outputs": [
    {
     "data": {
      "text/plain": [
       "u'Bob\\tMale\\t25'"
      ]
     },
     "execution_count": 5,
     "metadata": {},
     "output_type": "execute_result"
    }
   ],
   "source": [
    "persons_rdd.first()"
   ]
  },
  {
   "cell_type": "markdown",
   "metadata": {},
   "source": [
    "### take"
   ]
  },
  {
   "cell_type": "code",
   "execution_count": 88,
   "metadata": {},
   "outputs": [
    {
     "data": {
      "text/plain": [
       "[1, 2, 3, 4, 5]"
      ]
     },
     "execution_count": 88,
     "metadata": {},
     "output_type": "execute_result"
    }
   ],
   "source": [
    "list_rdd.take(5)"
   ]
  },
  {
   "cell_type": "code",
   "execution_count": 28,
   "metadata": {},
   "outputs": [
    {
     "data": {
      "text/plain": [
       "[u'Bob\\tMale\\t25',\n",
       " u'John\\tMale\\t23',\n",
       " u'Jimmy\\tMale\\t27',\n",
       " u'Marshal\\tMale\\t26',\n",
       " u'Tina\\tFemale\\t19']"
      ]
     },
     "execution_count": 28,
     "metadata": {},
     "output_type": "execute_result"
    }
   ],
   "source": [
    "persons_rdd.take(5)"
   ]
  },
  {
   "cell_type": "markdown",
   "metadata": {},
   "source": [
    "### collect"
   ]
  },
  {
   "cell_type": "code",
   "execution_count": 89,
   "metadata": {},
   "outputs": [
    {
     "data": {
      "text/plain": [
       "[1, 2, 3, 4, 5, 6, 7, 8, 9]"
      ]
     },
     "execution_count": 89,
     "metadata": {},
     "output_type": "execute_result"
    }
   ],
   "source": [
    "list_rdd.collect()"
   ]
  },
  {
   "cell_type": "code",
   "execution_count": 104,
   "metadata": {},
   "outputs": [
    {
     "data": {
      "text/plain": [
       "[('Jimmy', 18), ('Bob', 22), ('Rod', 29)]"
      ]
     },
     "execution_count": 104,
     "metadata": {},
     "output_type": "execute_result"
    }
   ],
   "source": [
    "age_rdd.collect()"
   ]
  },
  {
   "cell_type": "code",
   "execution_count": 105,
   "metadata": {},
   "outputs": [
    {
     "data": {
      "text/plain": [
       "[('Jimmy', 20000), ('Bob', 23000), ('Rod', 25000)]"
      ]
     },
     "execution_count": 105,
     "metadata": {},
     "output_type": "execute_result"
    }
   ],
   "source": [
    "salary_rdd.collect()"
   ]
  },
  {
   "cell_type": "code",
   "execution_count": 30,
   "metadata": {},
   "outputs": [
    {
     "data": {
      "text/plain": [
       "[u'Bob\\tMale\\t25',\n",
       " u'John\\tMale\\t23',\n",
       " u'Jimmy\\tMale\\t27',\n",
       " u'Marshal\\tMale\\t26',\n",
       " u'Tina\\tFemale\\t19',\n",
       " u'Amy\\t\\tFemale\\t21',\n",
       " u'Penny\\tFemale\\t23']"
      ]
     },
     "execution_count": 30,
     "metadata": {},
     "output_type": "execute_result"
    }
   ],
   "source": [
    "persons_rdd.collect()"
   ]
  },
  {
   "cell_type": "markdown",
   "metadata": {},
   "source": [
    "## map, filter and reduce in Spark\n",
    "***"
   ]
  },
  {
   "cell_type": "markdown",
   "metadata": {},
   "source": [
    "### map\n",
    "***"
   ]
  },
  {
   "cell_type": "code",
   "execution_count": 92,
   "metadata": {
    "collapsed": true
   },
   "outputs": [],
   "source": [
    "mapList = list_rdd.map(lambda x:x**2)"
   ]
  },
  {
   "cell_type": "code",
   "execution_count": 93,
   "metadata": {},
   "outputs": [
    {
     "data": {
      "text/plain": [
       "[1, 4, 9, 16, 25, 36, 49, 64, 81]"
      ]
     },
     "execution_count": 93,
     "metadata": {},
     "output_type": "execute_result"
    }
   ],
   "source": [
    "mapList.collect()"
   ]
  },
  {
   "cell_type": "code",
   "execution_count": 31,
   "metadata": {},
   "outputs": [
    {
     "data": {
      "text/plain": [
       "['Jimmy', 'Bob', 'Rod']"
      ]
     },
     "execution_count": 31,
     "metadata": {},
     "output_type": "execute_result"
    }
   ],
   "source": [
    "age_rdd.map(lambda x:x[0]).collect()"
   ]
  },
  {
   "cell_type": "code",
   "execution_count": 32,
   "metadata": {},
   "outputs": [
    {
     "data": {
      "text/plain": [
       "[[u'Bob', u'Male', u'25'],\n",
       " [u'John', u'Male', u'23'],\n",
       " [u'Jimmy', u'Male', u'27'],\n",
       " [u'Marshal', u'Male', u'26'],\n",
       " [u'Tina', u'Female', u'19'],\n",
       " [u'Amy', u'', u'Female', u'21'],\n",
       " [u'Penny', u'Female', u'23']]"
      ]
     },
     "execution_count": 32,
     "metadata": {},
     "output_type": "execute_result"
    }
   ],
   "source": [
    "persons_rdd.map(lambda l:l.split('\\t')).collect()"
   ]
  },
  {
   "cell_type": "markdown",
   "metadata": {},
   "source": [
    "### filter\n",
    "***"
   ]
  },
  {
   "cell_type": "code",
   "execution_count": 94,
   "metadata": {
    "collapsed": true
   },
   "outputs": [],
   "source": [
    "filterList = list_rdd.filter(lambda x:x%2==0)"
   ]
  },
  {
   "cell_type": "code",
   "execution_count": 95,
   "metadata": {},
   "outputs": [
    {
     "data": {
      "text/plain": [
       "[2, 4, 6, 8]"
      ]
     },
     "execution_count": 95,
     "metadata": {},
     "output_type": "execute_result"
    }
   ],
   "source": [
    "filterList.collect()"
   ]
  },
  {
   "cell_type": "code",
   "execution_count": 111,
   "metadata": {},
   "outputs": [
    {
     "data": {
      "text/plain": [
       "[('Bob', 23000), ('Rod', 25000)]"
      ]
     },
     "execution_count": 111,
     "metadata": {},
     "output_type": "execute_result"
    }
   ],
   "source": [
    "salary_rdd.filter(lambda x:x[1]>21000).collect()"
   ]
  },
  {
   "cell_type": "code",
   "execution_count": 112,
   "metadata": {},
   "outputs": [
    {
     "data": {
      "text/plain": [
       "['Bob', 'Rod']"
      ]
     },
     "execution_count": 112,
     "metadata": {},
     "output_type": "execute_result"
    }
   ],
   "source": [
    "salary_rdd.filter(lambda x:x[1]>21000).map(lambda x:x[0]).collect()"
   ]
  },
  {
   "cell_type": "markdown",
   "metadata": {},
   "source": [
    "### reduce\n",
    "***"
   ]
  },
  {
   "cell_type": "code",
   "execution_count": 98,
   "metadata": {},
   "outputs": [
    {
     "data": {
      "text/plain": [
       "45"
      ]
     },
     "execution_count": 98,
     "metadata": {},
     "output_type": "execute_result"
    }
   ],
   "source": [
    "reduceList = list_rdd.reduce(lambda x,y:x+y)\n",
    "reduceList"
   ]
  },
  {
   "cell_type": "code",
   "execution_count": 114,
   "metadata": {},
   "outputs": [
    {
     "data": {
      "text/plain": [
       "51"
      ]
     },
     "execution_count": 114,
     "metadata": {},
     "output_type": "execute_result"
    }
   ],
   "source": [
    "age_rdd.filter(lambda x:x[1]>20).map(lambda x:x[1]).reduce(lambda x,y:x+y)"
   ]
  },
  {
   "cell_type": "markdown",
   "metadata": {},
   "source": [
    "## other reduders\n",
    "***"
   ]
  },
  {
   "cell_type": "code",
   "execution_count": 100,
   "metadata": {},
   "outputs": [
    {
     "data": {
      "text/plain": [
       "285"
      ]
     },
     "execution_count": 100,
     "metadata": {},
     "output_type": "execute_result"
    }
   ],
   "source": [
    "mapList.sum()"
   ]
  },
  {
   "cell_type": "code",
   "execution_count": 101,
   "metadata": {},
   "outputs": [
    {
     "data": {
      "text/plain": [
       "81"
      ]
     },
     "execution_count": 101,
     "metadata": {},
     "output_type": "execute_result"
    }
   ],
   "source": [
    "mapList.max()"
   ]
  },
  {
   "cell_type": "code",
   "execution_count": 102,
   "metadata": {},
   "outputs": [
    {
     "data": {
      "text/plain": [
       "1"
      ]
     },
     "execution_count": 102,
     "metadata": {},
     "output_type": "execute_result"
    }
   ],
   "source": [
    "mapList.min()"
   ]
  },
  {
   "cell_type": "code",
   "execution_count": 103,
   "metadata": {},
   "outputs": [
    {
     "data": {
      "text/plain": [
       "31.666666666666668"
      ]
     },
     "execution_count": 103,
     "metadata": {},
     "output_type": "execute_result"
    }
   ],
   "source": [
    "mapList.mean()"
   ]
  },
  {
   "cell_type": "markdown",
   "metadata": {},
   "source": [
    "## join\n",
    "***"
   ]
  },
  {
   "cell_type": "code",
   "execution_count": 115,
   "metadata": {},
   "outputs": [
    {
     "data": {
      "text/plain": [
       "[('Jimmy', (20000, 18)), ('Bob', (23000, 22)), ('Rod', (25000, 29))]"
      ]
     },
     "execution_count": 115,
     "metadata": {},
     "output_type": "execute_result"
    }
   ],
   "source": [
    "total_rdd = salary_rdd.join(age_rdd)\n",
    "total_rdd.collect()"
   ]
  },
  {
   "cell_type": "markdown",
   "metadata": {},
   "source": [
    "## reduceByKey"
   ]
  },
  {
   "cell_type": "code",
   "execution_count": 33,
   "metadata": {},
   "outputs": [
    {
     "data": {
      "text/plain": [
       "[('A', 10),\n",
       " ('A', 12),\n",
       " ('A', 9),\n",
       " ('B', 4),\n",
       " ('B', 7),\n",
       " ('B', 12),\n",
       " ('B', 11),\n",
       " ('C', 15),\n",
       " ('C', 18)]"
      ]
     },
     "execution_count": 33,
     "metadata": {},
     "output_type": "execute_result"
    }
   ],
   "source": [
    "rklist = [(\"A\", 10), (\"A\", 12), (\"A\", 9),\n",
    "          (\"B\", 4), (\"B\", 7), (\"B\", 12), (\"B\", 11),\n",
    "          (\"C\", 15), (\"C\", 18)] \n",
    "rklist_rdd = sc.parallelize(rklist)\n",
    "\n",
    "rklist_rdd.collect()"
   ]
  },
  {
   "cell_type": "markdown",
   "metadata": {},
   "source": [
    "### find number of items for each group"
   ]
  },
  {
   "cell_type": "code",
   "execution_count": 124,
   "metadata": {},
   "outputs": [
    {
     "data": {
      "text/plain": [
       "[('A', 3), ('C', 2), ('B', 4)]"
      ]
     },
     "execution_count": 124,
     "metadata": {},
     "output_type": "execute_result"
    }
   ],
   "source": [
    "rklist_rdd.map(lambda x:(x[0], 1)).reduceByKey(lambda x,y:x+y).collect()"
   ]
  },
  {
   "cell_type": "markdown",
   "metadata": {},
   "source": [
    "### find min value for each group"
   ]
  },
  {
   "cell_type": "code",
   "execution_count": 128,
   "metadata": {},
   "outputs": [
    {
     "data": {
      "text/plain": [
       "[('A', 9), ('C', 15), ('B', 4)]"
      ]
     },
     "execution_count": 128,
     "metadata": {},
     "output_type": "execute_result"
    }
   ],
   "source": [
    "rklist_rdd.reduceByKey(lambda x,y:min(x,y)).collect()"
   ]
  },
  {
   "cell_type": "markdown",
   "metadata": {},
   "source": [
    "### find max value for each group"
   ]
  },
  {
   "cell_type": "code",
   "execution_count": 133,
   "metadata": {},
   "outputs": [
    {
     "data": {
      "text/plain": [
       "[('A', 12), ('C', 18), ('B', 12)]"
      ]
     },
     "execution_count": 133,
     "metadata": {},
     "output_type": "execute_result"
    }
   ],
   "source": [
    "rklist_rdd.reduceByKey(max).collect()"
   ]
  },
  {
   "cell_type": "markdown",
   "metadata": {
    "collapsed": true
   },
   "source": [
    "### working on persons_rdd"
   ]
  },
  {
   "cell_type": "code",
   "execution_count": 56,
   "metadata": {},
   "outputs": [
    {
     "data": {
      "text/plain": [
       "[(u'Male', (25, 1)),\n",
       " (u'Male', (23, 1)),\n",
       " (u'Male', (27, 1)),\n",
       " (u'Male', (26, 1)),\n",
       " (u'Female', (19, 1)),\n",
       " (u'Female', (21, 1)),\n",
       " (u'Female', (23, 1))]"
      ]
     },
     "execution_count": 56,
     "metadata": {},
     "output_type": "execute_result"
    }
   ],
   "source": [
    "persons_kv_rdd = persons_rdd.map(lambda l:l.split()).map(lambda l:(l[1], (int(l[2]), 1)))\n",
    "persons_kv_rdd.collect()"
   ]
  },
  {
   "cell_type": "code",
   "execution_count": 61,
   "metadata": {
    "scrolled": false
   },
   "outputs": [
    {
     "data": {
      "text/plain": [
       "[(u'Female', (63, 3)), (u'Male', (101, 4))]"
      ]
     },
     "execution_count": 61,
     "metadata": {},
     "output_type": "execute_result"
    }
   ],
   "source": [
    "persons_kv_rdd.reduceByKey(lambda x,y:(x[0]+y[0], x[1]+y[1])).collect()"
   ]
  },
  {
   "cell_type": "markdown",
   "metadata": {
    "collapsed": true
   },
   "source": [
    "## Writing parser to create structure"
   ]
  },
  {
   "cell_type": "code",
   "execution_count": 101,
   "metadata": {
    "collapsed": true
   },
   "outputs": [],
   "source": [
    "class Person:\n",
    "    def parse(self,line):\n",
    "        fields = line.split('\\t')\n",
    "        self.name = fields[0]\n",
    "        self.gender = fields[1]\n",
    "        self.age = int(fields[2])\n",
    "        return self"
   ]
  },
  {
   "cell_type": "code",
   "execution_count": 110,
   "metadata": {
    "scrolled": false
   },
   "outputs": [
    {
     "data": {
      "text/plain": [
       "[(u'Female', 63), (u'Male', 101)]"
      ]
     },
     "execution_count": 110,
     "metadata": {},
     "output_type": "execute_result"
    }
   ],
   "source": [
    "person = Person()\n",
    "persons_rdd.map(person.parse).map(lambda t:(t.gender,t.age)).reduceByKey(lambda x,y:x+y).collect()"
   ]
  },
  {
   "cell_type": "markdown",
   "metadata": {},
   "source": [
    "# Read Tables\n",
    "***"
   ]
  },
  {
   "cell_type": "markdown",
   "metadata": {},
   "source": [
    "## SQLContext\n",
    "***"
   ]
  },
  {
   "cell_type": "code",
   "execution_count": 122,
   "metadata": {
    "collapsed": true
   },
   "outputs": [],
   "source": [
    "from pyspark.sql import SQLContext"
   ]
  },
  {
   "cell_type": "code",
   "execution_count": 24,
   "metadata": {
    "collapsed": true
   },
   "outputs": [],
   "source": [
    "sqlCxt = SQLContext(sc)"
   ]
  },
  {
   "cell_type": "code",
   "execution_count": 127,
   "metadata": {
    "collapsed": true
   },
   "outputs": [],
   "source": [
    "people = sqlCxt.read.json('data/people.json')"
   ]
  },
  {
   "cell_type": "markdown",
   "metadata": {},
   "source": [
    "### show"
   ]
  },
  {
   "cell_type": "code",
   "execution_count": 128,
   "metadata": {},
   "outputs": [
    {
     "name": "stdout",
     "output_type": "stream",
     "text": [
      "+---+-----------------+------+--------+\n",
      "|age|favorite_language|gender|    name|\n",
      "+---+-----------------+------+--------+\n",
      "| 40|           Python|     M| Orlando|\n",
      "| 39|               C#|     F|    Lina|\n",
      "| 30|           Python|     M|    John|\n",
      "| 32|           Python|     F|    Jane|\n",
      "| 18|           Python|     F|Michelle|\n",
      "| 20|               C#|     M|  Daniel|\n",
      "+---+-----------------+------+--------+\n",
      "\n"
     ]
    }
   ],
   "source": [
    "people.show()"
   ]
  },
  {
   "cell_type": "markdown",
   "metadata": {},
   "source": [
    "### select"
   ]
  },
  {
   "cell_type": "code",
   "execution_count": 130,
   "metadata": {},
   "outputs": [
    {
     "name": "stdout",
     "output_type": "stream",
     "text": [
      "+--------+\n",
      "|    name|\n",
      "+--------+\n",
      "| Orlando|\n",
      "|    Lina|\n",
      "|    John|\n",
      "|    Jane|\n",
      "|Michelle|\n",
      "|  Daniel|\n",
      "+--------+\n",
      "\n"
     ]
    }
   ],
   "source": [
    "people.select(\"name\").show()"
   ]
  },
  {
   "cell_type": "code",
   "execution_count": 131,
   "metadata": {},
   "outputs": [
    {
     "name": "stdout",
     "output_type": "stream",
     "text": [
      "+---+--------+------+\n",
      "|age|    name|gender|\n",
      "+---+--------+------+\n",
      "| 40| Orlando|     M|\n",
      "| 39|    Lina|     F|\n",
      "| 30|    John|     M|\n",
      "| 32|    Jane|     F|\n",
      "| 18|Michelle|     F|\n",
      "| 20|  Daniel|     M|\n",
      "+---+--------+------+\n",
      "\n"
     ]
    }
   ],
   "source": [
    "people.select(\"age\", \"name\", \"gender\").show()"
   ]
  },
  {
   "cell_type": "code",
   "execution_count": 135,
   "metadata": {},
   "outputs": [
    {
     "name": "stdout",
     "output_type": "stream",
     "text": [
      "+--------+---------+\n",
      "|    name|(age * 2)|\n",
      "+--------+---------+\n",
      "| Orlando|       80|\n",
      "|    Lina|       78|\n",
      "|    John|       60|\n",
      "|    Jane|       64|\n",
      "|Michelle|       36|\n",
      "|  Daniel|       40|\n",
      "+--------+---------+\n",
      "\n"
     ]
    }
   ],
   "source": [
    "people.select(\"name\", people.age*2).show()"
   ]
  },
  {
   "cell_type": "markdown",
   "metadata": {},
   "source": [
    "### filter"
   ]
  },
  {
   "cell_type": "code",
   "execution_count": 136,
   "metadata": {},
   "outputs": [
    {
     "name": "stdout",
     "output_type": "stream",
     "text": [
      "+---+-----------------+------+-------+\n",
      "|age|favorite_language|gender|   name|\n",
      "+---+-----------------+------+-------+\n",
      "| 40|           Python|     M|Orlando|\n",
      "| 39|               C#|     F|   Lina|\n",
      "| 32|           Python|     F|   Jane|\n",
      "+---+-----------------+------+-------+\n",
      "\n"
     ]
    }
   ],
   "source": [
    "people.filter(people.age>30).show()"
   ]
  },
  {
   "cell_type": "code",
   "execution_count": 139,
   "metadata": {},
   "outputs": [
    {
     "name": "stdout",
     "output_type": "stream",
     "text": [
      "+---+-----------------+------+--------+\n",
      "|age|favorite_language|gender|    name|\n",
      "+---+-----------------+------+--------+\n",
      "| 39|               C#|     F|    Lina|\n",
      "| 32|           Python|     F|    Jane|\n",
      "| 18|           Python|     F|Michelle|\n",
      "+---+-----------------+------+--------+\n",
      "\n"
     ]
    }
   ],
   "source": [
    "people.filter(people.gender == \"F\").show()"
   ]
  },
  {
   "cell_type": "code",
   "execution_count": 137,
   "metadata": {},
   "outputs": [
    {
     "name": "stdout",
     "output_type": "stream",
     "text": [
      "+---+-----------------+------+-------+\n",
      "|age|favorite_language|gender|   name|\n",
      "+---+-----------------+------+-------+\n",
      "| 40|           Python|     M|Orlando|\n",
      "+---+-----------------+------+-------+\n",
      "\n"
     ]
    }
   ],
   "source": [
    "people.filter(people.name==\"Orlando\").show()"
   ]
  },
  {
   "cell_type": "markdown",
   "metadata": {},
   "source": [
    "### groupby"
   ]
  },
  {
   "cell_type": "code",
   "execution_count": 141,
   "metadata": {},
   "outputs": [
    {
     "name": "stdout",
     "output_type": "stream",
     "text": [
      "+------+-----+\n",
      "|gender|count|\n",
      "+------+-----+\n",
      "|     F|    3|\n",
      "|     M|    3|\n",
      "+------+-----+\n",
      "\n"
     ]
    }
   ],
   "source": [
    "people.groupBy(\"gender\").count().show()"
   ]
  },
  {
   "cell_type": "code",
   "execution_count": 142,
   "metadata": {},
   "outputs": [
    {
     "name": "stdout",
     "output_type": "stream",
     "text": [
      "+------+--------+\n",
      "|gender|sum(age)|\n",
      "+------+--------+\n",
      "|     F|      89|\n",
      "|     M|      90|\n",
      "+------+--------+\n",
      "\n"
     ]
    }
   ],
   "source": [
    "people.groupBy(\"gender\").sum().show()"
   ]
  },
  {
   "cell_type": "markdown",
   "metadata": {},
   "source": [
    "## Using SQL-like query"
   ]
  },
  {
   "cell_type": "markdown",
   "metadata": {},
   "source": [
    "### registerTempTable"
   ]
  },
  {
   "cell_type": "code",
   "execution_count": 143,
   "metadata": {
    "collapsed": true
   },
   "outputs": [],
   "source": [
    "people.registerTempTable(\"people\")"
   ]
  },
  {
   "cell_type": "markdown",
   "metadata": {},
   "source": [
    "### sql(*`query`*)"
   ]
  },
  {
   "cell_type": "code",
   "execution_count": 144,
   "metadata": {},
   "outputs": [
    {
     "name": "stdout",
     "output_type": "stream",
     "text": [
      "+---+-----------------+------+--------+\n",
      "|age|favorite_language|gender|    name|\n",
      "+---+-----------------+------+--------+\n",
      "| 40|           Python|     M| Orlando|\n",
      "| 39|               C#|     F|    Lina|\n",
      "| 30|           Python|     M|    John|\n",
      "| 32|           Python|     F|    Jane|\n",
      "| 18|           Python|     F|Michelle|\n",
      "| 20|               C#|     M|  Daniel|\n",
      "+---+-----------------+------+--------+\n",
      "\n"
     ]
    }
   ],
   "source": [
    "sqlCxt.sql(\"select * from people\").show()"
   ]
  },
  {
   "cell_type": "code",
   "execution_count": 145,
   "metadata": {},
   "outputs": [
    {
     "name": "stdout",
     "output_type": "stream",
     "text": [
      "+--------+----------+\n",
      "|    name|Double_AGE|\n",
      "+--------+----------+\n",
      "| Orlando|        80|\n",
      "|    Lina|        78|\n",
      "|    John|        60|\n",
      "|    Jane|        64|\n",
      "|Michelle|        36|\n",
      "|  Daniel|        40|\n",
      "+--------+----------+\n",
      "\n"
     ]
    }
   ],
   "source": [
    "sqlCxt.sql(\"select name, age*2 AS Double_AGE from people\").show()"
   ]
  },
  {
   "cell_type": "code",
   "execution_count": 154,
   "metadata": {},
   "outputs": [
    {
     "name": "stdout",
     "output_type": "stream",
     "text": [
      "+---+-----------------+------+--------+\n",
      "|age|favorite_language|gender|    name|\n",
      "+---+-----------------+------+--------+\n",
      "| 40|           Python|     M| Orlando|\n",
      "| 39|               C#|     F|    Lina|\n",
      "| 32|           Python|     F|    Jane|\n",
      "| 30|           Python|     M|    John|\n",
      "| 20|               C#|     M|  Daniel|\n",
      "| 18|           Python|     F|Michelle|\n",
      "+---+-----------------+------+--------+\n",
      "\n"
     ]
    }
   ],
   "source": [
    "sqlCxt.sql(\"select * from people order by age desc\").show()"
   ]
  },
  {
   "cell_type": "code",
   "execution_count": 163,
   "metadata": {},
   "outputs": [
    {
     "name": "stdout",
     "output_type": "stream",
     "text": [
      "+------+------------------+\n",
      "|gender|    Average_of_age|\n",
      "+------+------------------+\n",
      "|     F|29.666666666666668|\n",
      "|     M|              30.0|\n",
      "+------+------------------+\n",
      "\n"
     ]
    }
   ],
   "source": [
    "sqlCxt.sql(\"select gender, mean(age) AS Average_of_age from people group by gender\").show()"
   ]
  },
  {
   "cell_type": "markdown",
   "metadata": {
    "collapsed": true
   },
   "source": [
    "## Create Schema\n",
    "***"
   ]
  },
  {
   "cell_type": "code",
   "execution_count": 18,
   "metadata": {
    "collapsed": true
   },
   "outputs": [],
   "source": [
    "from pyspark.sql import *\n",
    "from pyspark.sql.types import *"
   ]
  },
  {
   "cell_type": "code",
   "execution_count": 27,
   "metadata": {
    "collapsed": true
   },
   "outputs": [],
   "source": [
    "sales_rdd = sc.textFile(\"data/sales.txt\").map(lambda l:l.split(\"\\t\")).map(lambda t:(t[0], t[1], t[2], int(t[3])))\n",
    "stores_rdd = sc.textFile(\"data/stores.txt\").map(lambda l:l.split(\"\\t\")).map(lambda t:(t[0], t[1]))\n",
    "products_rdd = sc.textFile(\"data/products.txt\").map(lambda l:l.split(\"\\t\")).map(lambda t:(t[0], t[1], t[2]))"
   ]
  },
  {
   "cell_type": "code",
   "execution_count": 28,
   "metadata": {},
   "outputs": [
    {
     "name": "stdout",
     "output_type": "stream",
     "text": [
      "(u'2014-01-01', u'1', u'1', 100)\n",
      "(u'1', u'First store')\n",
      "(u'1', u'red stuff', u'stuff')\n"
     ]
    }
   ],
   "source": [
    "print sales_rdd.first()\n",
    "print stores_rdd.first()\n",
    "print products_rdd.first()"
   ]
  },
  {
   "cell_type": "markdown",
   "metadata": {
    "collapsed": true
   },
   "source": [
    "### StructField\n",
    "***"
   ]
  },
  {
   "cell_type": "code",
   "execution_count": 29,
   "metadata": {},
   "outputs": [],
   "source": [
    "sales_fields = [StructField(\"day\", StringType(), False),\n",
    "               StructField(\"store\", StringType(), False),\n",
    "               StructField(\"product\", StringType(), False),\n",
    "               StructField(\"quantity\", IntegerType(), False)]\n",
    "\n",
    "stores_fields = [StructField(\"id\", StringType(), False),\n",
    "                StructField(\"name\", StringType(), False)]\n",
    "\n",
    "products_fields = [StructField(\"id\", StringType(), False),\n",
    "                 StructField(\"name\", StringType(), False),\n",
    "                 StructField(\"category\", StringType(), False)]"
   ]
  },
  {
   "cell_type": "markdown",
   "metadata": {
    "collapsed": true
   },
   "source": [
    "### StructType"
   ]
  },
  {
   "cell_type": "code",
   "execution_count": 30,
   "metadata": {
    "collapsed": true
   },
   "outputs": [],
   "source": [
    "sales_schema = StructType(sales_fields)\n",
    "stores_schema = StructType(stores_fields)\n",
    "products_schema = StructType(products_fields)"
   ]
  },
  {
   "cell_type": "markdown",
   "metadata": {},
   "source": [
    "### createDataFrame"
   ]
  },
  {
   "cell_type": "code",
   "execution_count": 31,
   "metadata": {},
   "outputs": [],
   "source": [
    "sales_df = sqlCxt.createDataFrame(sales_rdd, sales_schema)\n",
    "stores_df = sqlCxt.createDataFrame(stores_rdd, stores_schema)\n",
    "products_df = sqlCxt.createDataFrame(products_rdd, products_schema)"
   ]
  },
  {
   "cell_type": "markdown",
   "metadata": {},
   "source": [
    "## *`Now Use SQL-like query`*"
   ]
  },
  {
   "cell_type": "code",
   "execution_count": 33,
   "metadata": {
    "collapsed": true
   },
   "outputs": [],
   "source": [
    "sqlCxt.registerDataFrameAsTable(sales_df, \"sales\")\n",
    "sqlCxt.registerDataFrameAsTable(stores_df, \"stores\")\n",
    "sqlCxt.registerDataFrameAsTable(products_df, \"products\")"
   ]
  },
  {
   "cell_type": "code",
   "execution_count": 35,
   "metadata": {},
   "outputs": [
    {
     "name": "stdout",
     "output_type": "stream",
     "text": [
      "+----------+-----+-------+------------+\n",
      "|       day|store|product|        name|\n",
      "+----------+-----+-------+------------+\n",
      "|2014-01-01|    3|      1| Third store|\n",
      "|2014-01-01|    1|      1| First store|\n",
      "|2014-01-01|    1|      2| First store|\n",
      "|2014-01-01|    1|      3| First store|\n",
      "|2014-01-01|    2|      1|Second store|\n",
      "|2014-01-01|    2|      2|Second store|\n",
      "+----------+-----+-------+------------+\n",
      "\n"
     ]
    }
   ],
   "source": [
    "sqlCxt.sql(\"SELECT \\\n",
    "            day, store, product, name \\\n",
    "            FROM sales \\\n",
    "            JOIN stores \\\n",
    "            ON sales.store=stores.id\").show()"
   ]
  },
  {
   "cell_type": "code",
   "execution_count": 39,
   "metadata": {},
   "outputs": [
    {
     "name": "stdout",
     "output_type": "stream",
     "text": [
      "+----------+-----+-------+--------+----------+--------+\n",
      "|       day|store|product|quantity|      name|category|\n",
      "+----------+-----+-------+--------+----------+--------+\n",
      "|2014-01-01|    1|      3|      54|    thingy|thingies|\n",
      "|2014-01-01|    1|      1|     100| red stuff|   stuff|\n",
      "|2014-01-01|    2|      1|      50| red stuff|   stuff|\n",
      "|2014-01-01|    3|      1|      75| red stuff|   stuff|\n",
      "|2014-01-01|    1|      2|      37|blue stuff|   stuff|\n",
      "|2014-01-01|    2|      2|      40|blue stuff|   stuff|\n",
      "+----------+-----+-------+--------+----------+--------+\n",
      "\n"
     ]
    }
   ],
   "source": [
    "sqlCxt.sql(\"SELECT \\ \n",
    "           day, store, product, quantity, name, category \\\n",
    "           FROM sales \\\n",
    "           JOIN products \\\n",
    "           ON sales.product=products.id\").show()"
   ]
  },
  {
   "cell_type": "markdown",
   "metadata": {},
   "source": [
    "## *`Or Using pandas-like functions`*"
   ]
  },
  {
   "cell_type": "code",
   "execution_count": 41,
   "metadata": {},
   "outputs": [],
   "source": [
    "from pyspark.sql import functions as fn"
   ]
  },
  {
   "cell_type": "code",
   "execution_count": 44,
   "metadata": {},
   "outputs": [
    {
     "name": "stdout",
     "output_type": "stream",
     "text": [
      "+----------+-----+-------+--------+\n",
      "|       day|store|product|quantity|\n",
      "+----------+-----+-------+--------+\n",
      "|2014-01-01|    1|      1|     100|\n",
      "|2014-01-01|    1|      2|      37|\n",
      "|2014-01-01|    1|      3|      54|\n",
      "|2014-01-01|    2|      1|      50|\n",
      "|2014-01-01|    2|      2|      40|\n",
      "|2014-01-01|    3|      1|      75|\n",
      "|2014-01-01|    4|      4|       1|\n",
      "+----------+-----+-------+--------+\n",
      "\n"
     ]
    }
   ],
   "source": [
    "sales_df.show()"
   ]
  },
  {
   "cell_type": "code",
   "execution_count": 49,
   "metadata": {},
   "outputs": [
    {
     "name": "stdout",
     "output_type": "stream",
     "text": [
      "+-------+--------------+\n",
      "|product|total Quantity|\n",
      "+-------+--------------+\n",
      "|      3|            54|\n",
      "|      1|           225|\n",
      "|      4|             1|\n",
      "|      2|            77|\n",
      "+-------+--------------+\n",
      "\n"
     ]
    }
   ],
   "source": [
    "sales_df.groupby(\"product\").agg(fn.sum(\"quantity\").alias(\"total Quantity\"), ).show()"
   ]
  },
  {
   "cell_type": "code",
   "execution_count": 51,
   "metadata": {},
   "outputs": [
    {
     "name": "stdout",
     "output_type": "stream",
     "text": [
      "+-----+--------------+\n",
      "|store|total quantity|\n",
      "+-----+--------------+\n",
      "|    3|            75|\n",
      "|    1|           191|\n",
      "|    4|             1|\n",
      "|    2|            90|\n",
      "+-----+--------------+\n",
      "\n"
     ]
    }
   ],
   "source": [
    "sales_df.groupby(\"store\").agg(fn.sum(\"quantity\").alias(\"total quantity\")).show()"
   ]
  }
 ],
 "metadata": {
  "kernelspec": {
   "display_name": "Python 2",
   "language": "python",
   "name": "python2"
  },
  "language_info": {
   "codemirror_mode": {
    "name": "ipython",
    "version": 2
   },
   "file_extension": ".py",
   "mimetype": "text/x-python",
   "name": "python",
   "nbconvert_exporter": "python",
   "pygments_lexer": "ipython2",
   "version": "2.7.13"
  }
 },
 "nbformat": 4,
 "nbformat_minor": 2
}
